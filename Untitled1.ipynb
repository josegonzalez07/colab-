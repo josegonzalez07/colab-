{
  "nbformat": 4,
  "nbformat_minor": 0,
  "metadata": {
    "colab": {
      "provenance": [],
      "authorship_tag": "ABX9TyOX2G/zzJFtf58VTLntlKd3",
      "include_colab_link": true
    },
    "kernelspec": {
      "name": "python3",
      "display_name": "Python 3"
    },
    "language_info": {
      "name": "python"
    }
  },
  "cells": [
    {
      "cell_type": "markdown",
      "metadata": {
        "id": "view-in-github",
        "colab_type": "text"
      },
      "source": [
        "<a href=\"https://colab.research.google.com/github/josegonzalez07/colab-/blob/main/Untitled1.ipynb\" target=\"_parent\"><img src=\"https://colab.research.google.com/assets/colab-badge.svg\" alt=\"Open In Colab\"/></a>"
      ]
    },
    {
      "cell_type": "markdown",
      "source": [
        "ejercicio de convertir a celsius a fahrenheit a kelvin"
      ],
      "metadata": {
        "id": "3fJBz0z0cXef"
      }
    },
    {
      "cell_type": "code",
      "execution_count": null,
      "metadata": {
        "id": "pQiQKfaicUbv"
      },
      "outputs": [],
      "source": [
        "celsius = int(input(\"ingresar la temperatura en celsius:\"))\n",
        "fahrenheit = (celsius * 9/5)+ 32\n",
        "kelvin = celsius + 273.15\n",
        "print(f\"{celsius:.2f} grados Celsius son {fahrenheit:.2f} grados fahrenheit {kelvin:.2f} grados kelvin\")"
      ]
    },
    {
      "cell_type": "markdown",
      "source": [
        "ejercicio convertir celsius a farenheit"
      ],
      "metadata": {
        "id": "lzsD9f-Lcc2e"
      }
    },
    {
      "cell_type": "code",
      "source": [
        "def covertir(f):\n",
        "  c=(f-32) * 5/9\n",
        "  return c"
      ],
      "metadata": {
        "id": "zEAqk3k_cg30"
      },
      "execution_count": null,
      "outputs": []
    },
    {
      "cell_type": "code",
      "source": [
        "f = float(input(\"ingresa los grados farenheit: \"))\n",
        "print(f\"la coversion a grados celsius es: \", covertir(f))"
      ],
      "metadata": {
        "id": "lf3iVqUlcmZi"
      },
      "execution_count": null,
      "outputs": []
    },
    {
      "cell_type": "markdown",
      "source": [
        "1. Calcular las deducciones de la ley (ISSS, AFP, ISR)"
      ],
      "metadata": {
        "id": "fWln_rDadCYB"
      }
    },
    {
      "cell_type": "code",
      "source": [
        "def calcular_deducciones(sueldo):\n",
        "    \" Calcular ISSS y AFP \"\n",
        "    isss = sueldo * 0.03\n",
        "    afp = sueldo * 0.0725\n",
        "\n",
        "    \" Calcular el sueldo después de deducir ISSS y AFP\"\n",
        "    resultado_de_la_resta_del_isss_afp_y_salario = sueldo - (isss + afp)\n",
        "\n",
        "    \" Determinar el tramo y calcular ISR según la tabla proporcionada \"\n",
        "    if resultado_de_la_resta_del_isss_afp_y_salario <= 472.00:\n",
        "        isr = 0  # 1er tramo sin retención\n",
        "    elif resultado_de_la_resta_del_isss_afp_y_salario <= 895.24:\n",
        "        exceso = resultado_de_la_resta_del_isss_afp_y_salario - 472.00\n",
        "        isr = exceso * 0.10 + 17.67  # 2do tramo\n",
        "    elif resultado_de_la_resta_del_isss_afp_y_salario <= 2038.10:\n",
        "        exceso = resultado_de_la_resta_del_isss_afp_y_salario - 895.24\n",
        "        isr = exceso * 0.20 + 60.00  # 3er tramo\n",
        "    else:\n",
        "        exceso = resultado_de_la_resta_del_isss_afp_y_salario - 2038.10\n",
        "        isr = exceso * 0.30 + 288.57  # 4to tramo\n",
        "\n",
        "    return isss, afp, isr\n",
        "\n",
        "sueldo = float(input(\"Introduce tu sueldo: \"))\n",
        "\n",
        "\"Calcular las deducciones\"\n",
        "isss, afp, isr = calcular_deducciones(sueldo)\n",
        "\n",
        "\"Calcular el total de deducciones\"\n",
        "total_deducciones = isss + afp + isr\n",
        "\n",
        "\"Calcular el sueldo neto\"\n",
        "sueldo_neto = sueldo - total_deducciones\n",
        "\n",
        "print(f\"Para un sueldo de ${sueldo:.2f}:\")\n",
        "print(f\"ISSS: ${isss:.2f}\")\n",
        "print(f\"AFP: ${afp:.2f}\")\n",
        "print(f\"ISR: ${isr:.2f}\")\n",
        "print(f\"Total deducciones: ${total_deducciones:.2f}\")\n",
        "print(f\"Sueldo neto: ${sueldo_neto:.2f}\")"
      ],
      "metadata": {
        "colab": {
          "base_uri": "https://localhost:8080/"
        },
        "id": "avxE_Z_udDq7",
        "outputId": "307f05fe-27ba-4348-cead-41316e893dee"
      },
      "execution_count": 1,
      "outputs": [
        {
          "output_type": "stream",
          "name": "stdout",
          "text": [
            "Introduce tu sueldo: 66\n",
            "Para un sueldo de $66.00:\n",
            "ISSS: $1.98\n",
            "AFP: $4.78\n",
            "ISR: $0.00\n",
            "Total deducciones: $6.76\n",
            "Sueldo neto: $59.23\n"
          ]
        }
      ]
    },
    {
      "cell_type": "markdown",
      "source": [
        "2. Calcular el valor a pagar según el número de metros consumidos de agua potable."
      ],
      "metadata": {
        "id": "ySwGRGe7dODx"
      }
    },
    {
      "cell_type": "code",
      "source": [
        "def calcular_pago_agua(metros_consumidos):\n",
        "    if metros_consumidos <= 18:\n",
        "        \"Cuota fija para consumo entre 1 y 18 metros cúbicos\"\n",
        "        total_a_pagar = 6.00\n",
        "    elif metros_consumidos <= 28:\n",
        "        \"Calcular el exceso para consumo entre 19 y 28 metros cúbicos\"\n",
        "        exceso = metros_consumidos - 18\n",
        "        total_a_pagar = 6.00 + (exceso * 0.45)\n",
        "    else:\n",
        "        \"Calcular el exceso para consumo de 29 metros cúbicos en adelante\"\n",
        "        exceso = metros_consumidos - 28\n",
        "        total_a_pagar = 6.00 + (10 * 0.45) + (exceso * 0.65)\n",
        "\n",
        "    return total_a_pagar\n",
        "\n",
        "metros_consumidos = float(input(\"Introduce los metros cúbicos consumidos: \"))\n",
        "total_a_pagar = calcular_pago_agua(metros_consumidos)\n",
        "\n",
        "print(f\"El total a pagar por {metros_consumidos} metros cúbicos es: ${total_a_pagar:.2f}\")"
      ],
      "metadata": {
        "colab": {
          "base_uri": "https://localhost:8080/"
        },
        "id": "vJYOquSbdX71",
        "outputId": "245b7690-c2ba-4b19-e6f4-058acd8f26f2"
      },
      "execution_count": 2,
      "outputs": [
        {
          "output_type": "stream",
          "name": "stdout",
          "text": [
            "Introduce los metros cúbicos consumidos: 6\n",
            "El total a pagar por 6.0 metros cúbicos es: $6.00\n"
          ]
        }
      ]
    },
    {
      "cell_type": "markdown",
      "source": [
        "3. Desarrollar la tabla de meses acumulados a n meses."
      ],
      "metadata": {
        "id": "RIFMAy_Ddh2Y"
      }
    },
    {
      "cell_type": "code",
      "source": [
        "def suma_acumulada(n):\n",
        "    \" fórmula matemática \"\n",
        "    acumulacion = n * (n + 1) // 2\n",
        "    return acumulacion\n",
        "\n",
        "meses = int(input(\"\"\"Introduce el número de meses:\n",
        "\"\"\"))\n",
        "acumulacion_total = suma_acumulada(meses)\n",
        "\n",
        "print(f\"La acumulación total para {meses} meses es: {acumulacion_total}\")"
      ],
      "metadata": {
        "colab": {
          "base_uri": "https://localhost:8080/"
        },
        "id": "NljjU4_mdwID",
        "outputId": "37b6a438-4e54-484d-bf89-b8ad4f741371"
      },
      "execution_count": 3,
      "outputs": [
        {
          "output_type": "stream",
          "name": "stdout",
          "text": [
            "Introduce el número de meses:\n",
            "6\n",
            "La acumulación total para 6 meses es: 21\n"
          ]
        }
      ]
    },
    {
      "cell_type": "markdown",
      "source": [
        "4. Conversores"
      ],
      "metadata": {
        "id": "UF8yWZb6d0vX"
      }
    },
    {
      "cell_type": "markdown",
      "source": [
        "Divisas"
      ],
      "metadata": {
        "id": "nXdUBiV3eCas"
      }
    },
    {
      "cell_type": "code",
      "source": [
        "conversiones = {\n",
        "    1: (\"Colón Costarricense (CRC)\", 0.0017),\n",
        "    2: (\"Quetzal Guatemalteco (GTQ)\", 0.130),\n",
        "    3: (\"Lempira Hondureño (HNL)\", 0.041),\n",
        "    4: (\"Córdoba Nicaragüense (NIO)\", 0.027),\n",
        "    5: (\"Balboa Panameño (PAB)\", 1.0),\n",
        "    6: (\"Dólar Estadounidense (USD)\", 1.0),\n",
        "    7: (\"Euro (EUR)\", 1.07),\n",
        "    8: (\"Yen Japonés (JPY)\", 0.0067),\n",
        "    9: (\"Libras Esterlinas (GBP)\", 1.23),\n",
        "    10: (\"Dólar Canadiense (CAD)\", 0.75)\n",
        "}\n",
        "\n",
        "def mostrar_menu1():\n",
        "    print(\"\"\"Elija la moneda que desee:\n",
        "\"\"\")\n",
        "    for key, (divisa, _) in conversiones.items():\n",
        "        print(f\"{key}. {divisa}\")\n",
        "\n",
        "def mostrar_menu2():\n",
        "    print(\"\"\"\n",
        "Elija la opcion de moneda, a la cual desee convertir:\n",
        "\"\"\")\n",
        "    for key, (divisa, _) in conversiones.items():\n",
        "        print(f\"{key}. {divisa}\")\n",
        "\n",
        "def convertir_divisa():\n",
        "    mostrar_menu1()\n",
        "    origen = int(input(\"Elija la moneda de origen: \"))\n",
        "\n",
        "    mostrar_menu2()\n",
        "    destino = int(input(\"Elija la moneda a la cual desee convertir: \"))\n",
        "\n",
        "    cantidad = float(input(f\"Ingrese la cantidad en {conversiones[origen][0]}: \"))\n",
        "\n",
        "    cantidad_en_usd = cantidad * conversiones[origen][1]\n",
        "    cantidad_convertida = cantidad_en_usd / conversiones[destino][1]\n",
        "\n",
        "    print(f\"{cantidad} {conversiones[origen][0]} son {cantidad_convertida:.2f} {conversiones[destino][0]}\")\n",
        "\n",
        "convertir_divisa()"
      ],
      "metadata": {
        "colab": {
          "base_uri": "https://localhost:8080/"
        },
        "id": "mv_b_X9rd6ut",
        "outputId": "35036962-9b3c-45ab-a701-7747e39c0a54"
      },
      "execution_count": 10,
      "outputs": [
        {
          "output_type": "stream",
          "name": "stdout",
          "text": [
            "Elija la moneda que desee:\n",
            "\n",
            "1. Colón Costarricense (CRC)\n",
            "2. Quetzal Guatemalteco (GTQ)\n",
            "3. Lempira Hondureño (HNL)\n",
            "4. Córdoba Nicaragüense (NIO)\n",
            "5. Balboa Panameño (PAB)\n",
            "6. Dólar Estadounidense (USD)\n",
            "7. Euro (EUR)\n",
            "8. Yen Japonés (JPY)\n",
            "9. Libras Esterlinas (GBP)\n",
            "10. Dólar Canadiense (CAD)\n",
            "Elija la moneda de origen: 2\n",
            "\n",
            "Elija la opcion de moneda, a la cual desee convertir:\n",
            "\n",
            "1. Colón Costarricense (CRC)\n",
            "2. Quetzal Guatemalteco (GTQ)\n",
            "3. Lempira Hondureño (HNL)\n",
            "4. Córdoba Nicaragüense (NIO)\n",
            "5. Balboa Panameño (PAB)\n",
            "6. Dólar Estadounidense (USD)\n",
            "7. Euro (EUR)\n",
            "8. Yen Japonés (JPY)\n",
            "9. Libras Esterlinas (GBP)\n",
            "10. Dólar Canadiense (CAD)\n",
            "Elija la moneda a la cual desee convertir: 7\n",
            "Ingrese la cantidad en Quetzal Guatemalteco (GTQ): 4\n",
            "4.0 Quetzal Guatemalteco (GTQ) son 0.49 Euro (EUR)\n"
          ]
        }
      ]
    },
    {
      "cell_type": "markdown",
      "source": [
        "Longitud"
      ],
      "metadata": {
        "id": "YOy3KvTAefQt"
      }
    },
    {
      "cell_type": "code",
      "source": [
        "conversiones = {\n",
        "    1: (\"Milímetros\", 0.001),\n",
        "    2: (\"Centímetros\", 0.01),\n",
        "    3: (\"Metros\", 1),\n",
        "    4: (\"Kilómetros\", 1000),\n",
        "    5: (\"Pulgadas\", 0.0254),\n",
        "    6: (\"Pies\", 0.3048),\n",
        "    7: (\"Yardas\", 0.9144),\n",
        "    8: (\"Millas\", 1609.34),\n",
        "    9: (\"Micrómetros\", 1e-6),\n",
        "    10: (\"Nanómetros\", 1e-9)\n",
        "}\n",
        "\n",
        "def mostrar_menu1():\n",
        "    print(\"\"\"Elija la unidad de longitud que desee :\n",
        "\"\"\")\n",
        "    for key, (unidad, _) in conversiones.items():\n",
        "        print(f\"{key}. {unidad}\")\n",
        "\n",
        "def mostrar_menu2():\n",
        "    print(\"\"\"\n",
        "Elija la unidad de longitud a la que desee convertir: \"\"\")\n",
        "    for key, (unidad, _) in conversiones.items():\n",
        "        print(f\"{key}. {unidad}\")\n",
        "\n",
        "def convertir_longitud():\n",
        "    mostrar_menu1()\n",
        "    origen = int(input(\"Elija la unidad de origen: \"))\n",
        "\n",
        "    mostrar_menu2()\n",
        "    destino = int(input(\"Elija la unidad de destino: \"))\n",
        "\n",
        "    cantidad = float(input(f\"Ingrese la cantidad en {conversiones[origen][0]}: \"))\n",
        "\n",
        "    cantidad_en_metros = cantidad * conversiones[origen][1]\n",
        "    cantidad_convertida = cantidad_en_metros / conversiones[destino][1]\n",
        "\n",
        "    print(f\"{cantidad} {conversiones[origen][0]} son {cantidad_convertida:.2f} {conversiones[destino][0]}\")\n",
        "\n",
        "convertir_longitud()"
      ],
      "metadata": {
        "colab": {
          "base_uri": "https://localhost:8080/"
        },
        "id": "7hwFDBKnqEUj",
        "outputId": "df4bf678-14f1-41e3-a72c-4ae181db98ab"
      },
      "execution_count": 6,
      "outputs": [
        {
          "output_type": "stream",
          "name": "stdout",
          "text": [
            "Elija la unidad de longitud que desee :\n",
            "\n",
            "1. Milímetros\n",
            "2. Centímetros\n",
            "3. Metros\n",
            "4. Kilómetros\n",
            "5. Pulgadas\n",
            "6. Pies\n",
            "7. Yardas\n",
            "8. Millas\n",
            "9. Micrómetros\n",
            "10. Nanómetros\n",
            "Elija la unidad de origen: 1\n",
            "\n",
            "Elija la unidad de longitud a la que desee convertir: \n",
            "1. Milímetros\n",
            "2. Centímetros\n",
            "3. Metros\n",
            "4. Kilómetros\n",
            "5. Pulgadas\n",
            "6. Pies\n",
            "7. Yardas\n",
            "8. Millas\n",
            "9. Micrómetros\n",
            "10. Nanómetros\n",
            "Elija la unidad de destino: 3\n",
            "Ingrese la cantidad en Milímetros: 78\n",
            "78.0 Milímetros son 0.08 Metros\n"
          ]
        }
      ]
    },
    {
      "cell_type": "markdown",
      "source": [
        "Masa"
      ],
      "metadata": {
        "id": "7GBRKrqzqK_3"
      }
    },
    {
      "cell_type": "code",
      "source": [
        "conversiones = {\n",
        "    1: (\"Miligramos\", 1e-6),\n",
        "    2: (\"Gramos\", 1e-3),\n",
        "    3: (\"Kilogramos\", 1),\n",
        "    4: (\"Toneladas métricas\", 1000),\n",
        "    5: (\"Onzas\", 0.0283495),\n",
        "    6: (\"Libras\", 0.453592),\n",
        "    7: (\"Toneladas cortas\", 907.185),\n",
        "    8: (\"Toneladas largas\", 1016.05),\n",
        "    9: (\"Microgramos\", 1e-9),\n",
        "    10: (\"Quintales métricos\", 100)\n",
        "}\n",
        "\n",
        "def mostrar_menu1():\n",
        "    print(\"Elija la unidad de masa que desee:\")\n",
        "    for key, (unidad, _) in conversiones.items():\n",
        "        print(f\"{key}. {unidad}\")\n",
        "\n",
        "def mostrar_menu2():\n",
        "    print(\"\\nElija la unidad de masa a la que desee convertir:\")\n",
        "    for key, (unidad, _) in conversiones.items():\n",
        "        print(f\"{key}. {unidad}\")\n",
        "\n",
        "def convertir_masa():\n",
        "    mostrar_menu1()\n",
        "    origen = int(input(\"Elija la unidad de origen: \"))\n",
        "\n",
        "    mostrar_menu2()\n",
        "    destino = int(input(\"Elija la unidad de destino: \"))\n",
        "\n",
        "    cantidad = float(input(f\"Ingrese la cantidad en {conversiones[origen][0]}: \"))\n",
        "\n",
        "    cantidad_en_kg = cantidad * conversiones[origen][1]\n",
        "    cantidad_convertida = cantidad_en_kg / conversiones[destino][1]\n",
        "\n",
        "    print(f\"{cantidad} {conversiones[origen][0]} son {cantidad_convertida:.2f} {conversiones[destino][0]}\")\n",
        "\n",
        "convertir_masa()"
      ],
      "metadata": {
        "colab": {
          "base_uri": "https://localhost:8080/"
        },
        "id": "JKqCyNlkqObL",
        "outputId": "fd3f4c27-00b6-4e31-e851-bd764beffce3"
      },
      "execution_count": 11,
      "outputs": [
        {
          "output_type": "stream",
          "name": "stdout",
          "text": [
            "Elija la unidad de masa que desee:\n",
            "1. Miligramos\n",
            "2. Gramos\n",
            "3. Kilogramos\n",
            "4. Toneladas métricas\n",
            "5. Onzas\n",
            "6. Libras\n",
            "7. Toneladas cortas\n",
            "8. Toneladas largas\n",
            "9. Microgramos\n",
            "10. Quintales métricos\n",
            "Elija la unidad de origen: 6\n",
            "\n",
            "Elija la unidad de masa a la que desee convertir:\n",
            "1. Miligramos\n",
            "2. Gramos\n",
            "3. Kilogramos\n",
            "4. Toneladas métricas\n",
            "5. Onzas\n",
            "6. Libras\n",
            "7. Toneladas cortas\n",
            "8. Toneladas largas\n",
            "9. Microgramos\n",
            "10. Quintales métricos\n",
            "Elija la unidad de destino: 5\n",
            "Ingrese la cantidad en Libras: 1\n",
            "1.0 Libras son 16.00 Onzas\n"
          ]
        }
      ]
    },
    {
      "cell_type": "markdown",
      "source": [
        "Almacenamiento"
      ],
      "metadata": {
        "id": "gKTfmvzuqWot"
      }
    },
    {
      "cell_type": "code",
      "source": [
        "conversiones = {\n",
        "    1: (\"Bits\", 1/8),\n",
        "    2: (\"Bytes\", 1),\n",
        "    3: (\"Kilobytes\", 1024),\n",
        "    4: (\"Megabytes\", 1024**2),\n",
        "    5: (\"Gigabytes\", 1024**3),\n",
        "    6: (\"Terabytes\", 1024**4),\n",
        "    7: (\"Petabytes\", 1024**5),\n",
        "    8: (\"Exabytes\", 1024**6),\n",
        "    9: (\"Zettabytes\", 1024**7),\n",
        "    10: (\"Yottabytes\", 1024**8)\n",
        "}\n",
        "\n",
        "def mostrar_menu1():\n",
        "    print(\"Elija la unidad de almacenamiento que desee:\")\n",
        "    for key, (unidad, _) in conversiones.items():\n",
        "        print(f\"{key}. {unidad}\")\n",
        "\n",
        "def mostrar_menu2():\n",
        "    print(\"\\nElija la unidad de almacenamiento a la que desee convertir:\")\n",
        "    for key, (unidad, _) in conversiones.items():\n",
        "        print(f\"{key}. {unidad}\")\n",
        "\n",
        "def convertir_almacenamiento():\n",
        "    mostrar_menu1()\n",
        "    origen = int(input(\"Elija la unidad de origen: \"))\n",
        "\n",
        "    mostrar_menu2()\n",
        "    destino = int(input(\"Elija la unidad de destino: \"))\n",
        "\n",
        "    cantidad = float(input(f\"Ingrese la cantidad en {conversiones[origen][0]}: \"))\n",
        "\n",
        "    cantidad_en_bytes = cantidad * conversiones[origen][1]\n",
        "    cantidad_convertida = cantidad_en_bytes / conversiones[destino][1]\n",
        "\n",
        "    print(f\"{cantidad} {conversiones[origen][0]} son {cantidad_convertida:.2f} {conversiones[destino][0]}\")\n",
        "\n",
        "convertir_almacenamiento()"
      ],
      "metadata": {
        "colab": {
          "base_uri": "https://localhost:8080/"
        },
        "id": "AQYwopVGqbQD",
        "outputId": "8b5f08b4-0227-4308-8178-38bc391ac2db"
      },
      "execution_count": null,
      "outputs": [
        {
          "output_type": "stream",
          "name": "stdout",
          "text": [
            "Elija la unidad de almacenamiento que desee:\n",
            "1. Bits\n",
            "2. Bytes\n",
            "3. Kilobytes\n",
            "4. Megabytes\n",
            "5. Gigabytes\n",
            "6. Terabytes\n",
            "7. Petabytes\n",
            "8. Exabytes\n",
            "9. Zettabytes\n",
            "10. Yottabytes\n"
          ]
        }
      ]
    },
    {
      "cell_type": "markdown",
      "source": [
        "Tiempo"
      ],
      "metadata": {
        "id": "UzS25xsZqhrx"
      }
    },
    {
      "cell_type": "code",
      "source": [
        "conversiones = {\n",
        "    1: (\"Segundos\", 1),\n",
        "    2: (\"Minutos\", 60),\n",
        "    3: (\"Horas\", 60 * 60),\n",
        "    4: (\"Días\", 24 * 60 * 60),\n",
        "    5: (\"Meses\", 30.44 * 24 * 60 * 60),\n",
        "    6: (\"Años\", 365.25 * 24 * 60 * 60),\n",
        "    7: (\"Bienios\", 2 * 365.25 * 24 * 60 * 60),\n",
        "    8: (\"Lustros\", 5 * 365.25 * 24 * 60 * 60),\n",
        "    9: (\"Sexenios\", 6 * 365.25 * 24 * 60 * 60),\n",
        "    10: (\"Décadas\", 10 * 365.25 * 24 * 60 * 60),\n",
        "    11: (\"Siglos\", 100 * 365.25 * 24 * 60 * 60),\n",
        "    12: (\"Milenios\", 1000 * 365.25 * 24 * 60 * 60)\n",
        "}\n",
        "\n",
        "dias_por_mes = {\n",
        "    1: 31,  # Meses y dias de cada mes.\n",
        "    2: 28,\n",
        "    3: 31,\n",
        "    4: 30,\n",
        "    5: 31,\n",
        "    6: 30,\n",
        "    7: 31,\n",
        "    8: 31,\n",
        "    9: 30,\n",
        "    10: 31,\n",
        "    11: 30,\n",
        "    12: 31\n",
        "}\n",
        "\n",
        "def dias_en_mes(promedio=True, año=None):\n",
        "    if promedio:\n",
        "        return 30.44\n",
        "    else:\n",
        "        if año is None:\n",
        "            raise ValueError(\"El año debe ser proporcionado para cálculos exactos.\")\n",
        "        es_bisiesto = (año % 4 == 0 and (año % 100 != 0 or año % 400 == 0))\n",
        "        dias = dias_por_mes.copy()\n",
        "        if es_bisiesto:\n",
        "            dias[2] = 29\n",
        "        return dias\n",
        "\n",
        "def convertir_tiempo():\n",
        "    mostrar_menu1()\n",
        "    origen = int(input(\"Elija la unidad de origen: \"))\n",
        "\n",
        "    mostrar_menu2()\n",
        "    destino = int(input(\"Elija la unidad de destino: \"))\n",
        "\n",
        "    cantidad = float(input(f\"Ingrese la cantidad en {conversiones[origen][0]}: \"))\n",
        "\n",
        "    cantidad_en_segundos = cantidad * conversiones[origen][1]\n",
        "    cantidad_convertida = cantidad_en_segundos / conversiones[destino][1]\n",
        "\n",
        "    print(f\"{cantidad} {conversiones[origen][0]} son {cantidad_convertida:.2f} {conversiones[destino][0]}\")\n",
        "\n",
        "def mostrar_menu1():\n",
        "    print(\"Elija la unidad de tiempo que desee:\")\n",
        "    for key, (unidad, _) in conversiones.items():\n",
        "        print(f\"{key}. {unidad}\")\n",
        "\n",
        "def mostrar_menu2():\n",
        "    print(\"\\nElija la unidad de tiempo a la que desee convertir:\")\n",
        "    for key, (unidad, _) in conversiones.items():\n",
        "        print(f\"{key}. {unidad}\")\n",
        "\n",
        "        convertir_tiempo()\n"
      ],
      "metadata": {
        "id": "W8unLbayqlE9"
      },
      "execution_count": null,
      "outputs": []
    },
    {
      "cell_type": "markdown",
      "source": [
        "Volumen"
      ],
      "metadata": {
        "id": "fTHwx2kQqsaR"
      }
    },
    {
      "cell_type": "code",
      "source": [
        "conversiones = {\n",
        "    1: (\"Mililitros\", 1),\n",
        "    2: (\"Centímetros cúbicos\", 1),\n",
        "    3: (\"Litros\", 1000),\n",
        "    4: (\"Decímetros cúbicos\", 1000),\n",
        "    5: (\"Metros cúbicos\", 1000000),\n",
        "    6: (\"Pies cúbicos\", 28316.8466),\n",
        "    7: (\"Yardas cúbicas\", 764554.85798),\n",
        "    8: (\"Galones (EE.UU.)\", 3785.41),\n",
        "    9: (\"Galones (Imperial)\", 4546.09),\n",
        "    10: (\"Onzas líquidas (EE.UU.)\", 29.5735)\n",
        "}\n",
        "\n",
        "def mostrar_menu1():\n",
        "    print(\"Elija la unidad de volumen que desee:\")\n",
        "    for key, (unidad, _) in conversiones.items():\n",
        "        print(f\"{key}. {unidad}\")\n",
        "\n",
        "def mostrar_menu2():\n",
        "    print(\"\\nElija la unidad de volumen a la que desee convertir:\")\n",
        "    for key, (unidad, _) in conversiones.items():\n",
        "        print(f\"{key}. {unidad}\")\n",
        "\n",
        "def convertir_volumen():\n",
        "    mostrar_menu1()\n",
        "    origen = int(input(\"Elija la unidad de origen: \"))\n",
        "\n",
        "    mostrar_menu2()\n",
        "    destino = int(input(\"Elija la unidad de destino: \"))\n",
        "\n",
        "    cantidad = float(input(f\"Ingrese la cantidad en {conversiones[origen][0]}: \"))\n",
        "\n",
        "    cantidad_en_cm3 = cantidad * conversiones[origen][1]\n",
        "    cantidad_convertida = cantidad_en_cm3 / conversiones[destino][1]\n",
        "\n",
        "    print(f\"{cantidad} {conversiones[origen][0]} son {cantidad_convertida:.3f} {conversiones[destino][0]}\")\n",
        "\n",
        "convertir_volumen()"
      ],
      "metadata": {
        "id": "pY-7nhJLq6wr"
      },
      "execution_count": null,
      "outputs": []
    },
    {
      "cell_type": "markdown",
      "source": [
        "Area"
      ],
      "metadata": {
        "id": "xLDR0pkgrA6P"
      }
    },
    {
      "cell_type": "code",
      "source": [
        "conversiones = {\n",
        "    1: (\"Milímetros cuadrados\", 1e-6),\n",
        "    2: (\"Centímetros cuadrados\", 1e-4),\n",
        "    3: (\"Decímetros cuadrados\", 1e-2),\n",
        "    4: (\"Metros cuadrados\", 1),\n",
        "    5: (\"Hectáreas\", 1e4),\n",
        "    6: (\"Kilómetros cuadrados\", 1e6),\n",
        "    7: (\"Pies cuadrados\", 0.092903),\n",
        "    8: (\"Yardas cuadradas\", 0.836127),\n",
        "    9: (\"Acres\", 4046.86),\n",
        "    10: (\"Millas cuadradas\", 2.58999e6)\n",
        "}\n",
        "\n",
        "def mostrar_menu1():\n",
        "    print(\"Elija la unidad de área que desee:\")\n",
        "    for key, (unidad, _) in conversiones.items():\n",
        "        print(f\"{key}. {unidad}\")\n",
        "\n",
        "def mostrar_menu2():\n",
        "    print(\"\\nElija la unidad de área a la que desee convertir:\")\n",
        "    for key, (unidad, _) in conversiones.items():\n",
        "        print(f\"{key}. {unidad}\")\n",
        "\n",
        "def convertir_area():\n",
        "    mostrar_menu1()\n",
        "    origen = int(input(\"Elija la unidad de origen: \"))\n",
        "\n",
        "    mostrar_menu2()\n",
        "    destino = int(input(\"Elija la unidad de destino: \"))\n",
        "\n",
        "    cantidad = float(input(f\"Ingrese la cantidad en {conversiones[origen][0]}: \"))\n",
        "\n",
        "    cantidad_en_m2 = cantidad * conversiones[origen][1]\n",
        "    cantidad_convertida = cantidad_en_m2 / conversiones[destino][1]\n",
        "\n",
        "    print(f\"{cantidad} {conversiones[origen][0]} son {cantidad_convertida:.2f} {conversiones[destino][0]}\")\n",
        "\n",
        "convertir_area()"
      ],
      "metadata": {
        "id": "n4Qc4sOGrIxJ"
      },
      "execution_count": null,
      "outputs": []
    }
  ]
}